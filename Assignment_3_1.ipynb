{
  "nbformat": 4,
  "nbformat_minor": 0,
  "metadata": {
    "colab": {
      "provenance": []
    },
    "kernelspec": {
      "name": "python3",
      "display_name": "Python 3"
    },
    "language_info": {
      "name": "python"
    }
  },
  "cells": [
    {
      "cell_type": "code",
      "execution_count": 1,
      "metadata": {
        "id": "hQTQ9amK_NjA"
      },
      "outputs": [],
      "source": [
        "import tensorflow as tf\n",
        "import numpy as np"
      ]
    },
    {
      "cell_type": "code",
      "source": [
        "# Check TensorFlow version\n",
        "print(\"TensorFlow version:\", tf.__version__)"
      ],
      "metadata": {
        "colab": {
          "base_uri": "https://localhost:8080/"
        },
        "id": "gMOQiuoV_VmW",
        "outputId": "e3d62d72-9fad-4c6b-cb91-88cd0b6a6b8b"
      },
      "execution_count": 2,
      "outputs": [
        {
          "output_type": "stream",
          "name": "stdout",
          "text": [
            "TensorFlow version: 2.18.0\n"
          ]
        }
      ]
    },
    {
      "cell_type": "code",
      "source": [
        "# Creating Tensors\n",
        "scalar = tf.constant(7)\n",
        "vector = tf.constant([10, 20, 30])\n",
        "matrix = tf.constant([[1, 2], [3, 4]])\n",
        "tensor_3d = tf.constant([[[1, 2], [3, 4]], [[5, 6], [7, 8]]])"
      ],
      "metadata": {
        "id": "KxNMLMD5_YYi"
      },
      "execution_count": 3,
      "outputs": []
    },
    {
      "cell_type": "code",
      "source": [
        "# Printing tensors\n",
        "print(\"Scalar:\", scalar)\n",
        "print(\"Vector:\", vector)\n",
        "print(\"Matrix:\", matrix)\n",
        "print(\"3D Tensor:\", tensor_3d)"
      ],
      "metadata": {
        "colab": {
          "base_uri": "https://localhost:8080/"
        },
        "id": "rQZFlHT5_aRM",
        "outputId": "e151602e-1d20-4cb3-c0f0-8487daa85d2f"
      },
      "execution_count": 4,
      "outputs": [
        {
          "output_type": "stream",
          "name": "stdout",
          "text": [
            "Scalar: tf.Tensor(7, shape=(), dtype=int32)\n",
            "Vector: tf.Tensor([10 20 30], shape=(3,), dtype=int32)\n",
            "Matrix: tf.Tensor(\n",
            "[[1 2]\n",
            " [3 4]], shape=(2, 2), dtype=int32)\n",
            "3D Tensor: tf.Tensor(\n",
            "[[[1 2]\n",
            "  [3 4]]\n",
            "\n",
            " [[5 6]\n",
            "  [7 8]]], shape=(2, 2, 2), dtype=int32)\n"
          ]
        }
      ]
    },
    {
      "cell_type": "code",
      "source": [
        "# Basic Tensor Operations\n",
        "addition = tf.add(vector, 5)\n",
        "subtraction = tf.subtract(matrix, 1)\n",
        "multiplication = tf.multiply(vector, 2)\n",
        "division = tf.divide(tf.cast(matrix, tf.float32), tf.constant(2.0))\n",
        "tf.print(\"Addition:\", addition)\n",
        "tf.print(\"Subtraction:\", subtraction)\n",
        "tf.print(\"Multiplication:\", multiplication)\n",
        "tf.print(\"Division:\", division)"
      ],
      "metadata": {
        "colab": {
          "base_uri": "https://localhost:8080/"
        },
        "id": "srVvKrSG_nNl",
        "outputId": "208f3361-3829-496f-8ea1-295b207cc2f4"
      },
      "execution_count": 8,
      "outputs": [
        {
          "output_type": "stream",
          "name": "stdout",
          "text": [
            "Addition: [15 25 35]\n",
            "Subtraction: [[0 1]\n",
            " [2 3]]\n",
            "Multiplication: [20 40 60]\n",
            "Division: [[0.5 1]\n",
            " [1.5 2]]\n"
          ]
        }
      ]
    },
    {
      "cell_type": "code",
      "source": [
        "# Matrix Operations\n",
        "matrix_a = tf.constant([[1, 2], [3, 4]])\n",
        "matrix_b = tf.constant([[5, 6], [7, 8]])\n",
        "matmul = tf.matmul(matrix_a, matrix_b)\n",
        "tf.print(\"Matrix Multiplication:\", matmul)"
      ],
      "metadata": {
        "colab": {
          "base_uri": "https://localhost:8080/"
        },
        "id": "QC2fALrL_-0X",
        "outputId": "7ea0a069-0b87-436d-f480-2eeabfe20832"
      },
      "execution_count": 9,
      "outputs": [
        {
          "output_type": "stream",
          "name": "stdout",
          "text": [
            "Matrix Multiplication: [[19 22]\n",
            " [43 50]]\n"
          ]
        }
      ]
    },
    {
      "cell_type": "code",
      "source": [
        "# Reshaping and Transposing\n",
        "tensor = tf.constant([[1, 2, 3], [4, 5, 6]])\n",
        "reshaped = tf.reshape(tensor, [3, 2])\n",
        "transposed = tf.transpose(tensor)\n",
        "tf.print(\"Reshaped:\", reshaped)\n",
        "tf.print(\"Transposed:\", transposed)"
      ],
      "metadata": {
        "colab": {
          "base_uri": "https://localhost:8080/"
        },
        "id": "vf3-Dz7w_53L",
        "outputId": "936f2bef-f9f9-4481-ad43-1cf455e9c615"
      },
      "execution_count": 10,
      "outputs": [
        {
          "output_type": "stream",
          "name": "stdout",
          "text": [
            "Reshaped: [[1 2]\n",
            " [3 4]\n",
            " [5 6]]\n",
            "Transposed: [[1 4]\n",
            " [2 5]\n",
            " [3 6]]\n"
          ]
        }
      ]
    },
    {
      "cell_type": "code",
      "source": [
        "# Broadcasting\n",
        "a = tf.constant([1, 2, 3])\n",
        "b = tf.constant([[1], [2], [3]])\n",
        "broadcasted_addition = a + b\n",
        "tf.print(\"Broadcasted Addition:\", broadcasted_addition)"
      ],
      "metadata": {
        "colab": {
          "base_uri": "https://localhost:8080/"
        },
        "id": "bdNIG3cMADbo",
        "outputId": "f12ccda6-0d02-4f2e-e32d-f7f4a656744b"
      },
      "execution_count": 11,
      "outputs": [
        {
          "output_type": "stream",
          "name": "stdout",
          "text": [
            "Broadcasted Addition: [[2 3 4]\n",
            " [3 4 5]\n",
            " [4 5 6]]\n"
          ]
        }
      ]
    },
    {
      "cell_type": "code",
      "source": [
        "# Einsum Operations\n",
        "A = tf.random.uniform((2, 3))\n",
        "B = tf.random.uniform((3, 4))\n",
        "C = tf.einsum('ij,jk->ik', A, B)  # Standard matrix multiplication\n",
        "\n",
        "tf.print(\"Einsum Matrix Multiplication:\", C)\n",
        "\n",
        "D = tf.random.uniform((2, 3, 4))\n",
        "E = tf.einsum('ijk->kji', D)  # Transposing dimensions\n",
        "\n",
        "tf.print(\"Einsum Transposition:\", E)\n",
        "\n",
        "F = tf.random.uniform((3, 3))\n",
        "trace = tf.einsum('ii->', F)  # Trace of a matrix\n",
        "\n",
        "tf.print(\"Einsum Trace:\", trace)"
      ],
      "metadata": {
        "colab": {
          "base_uri": "https://localhost:8080/"
        },
        "id": "17BFwIztAF2z",
        "outputId": "918f72cb-ba33-4b79-f337-adeefe6af8a0"
      },
      "execution_count": 12,
      "outputs": [
        {
          "output_type": "stream",
          "name": "stdout",
          "text": [
            "Einsum Matrix Multiplication: [[1.22434437 0.962166 0.815783799 1.42187083]\n",
            " [1.08030283 1.09927857 0.790816903 1.42237115]]\n",
            "Einsum Transposition: [[[0.522013307 0.747698307]\n",
            "  [0.548325896 0.505363226]\n",
            "  [0.724085808 0.198139906]]\n",
            "\n",
            " [[0.638690233 0.852764249]\n",
            "  [0.977901697 0.57374382]\n",
            "  [0.907387733 0.231413603]]\n",
            "\n",
            " [[0.468432188 0.935683846]\n",
            "  [0.60052526 0.257638574]\n",
            "  [0.94331038 0.0135850906]]\n",
            "\n",
            " [[0.945683122 0.405556798]\n",
            "  [0.0604630709 0.169381738]\n",
            "  [0.267076731 0.918637514]]]\n",
            "Einsum Trace: 1.94817746\n"
          ]
        }
      ]
    },
    {
      "cell_type": "code",
      "source": [
        "# Reductions\n",
        "mean = tf.reduce_mean(tensor)\n",
        "sum_all = tf.reduce_sum(tensor)\n",
        "max_value = tf.reduce_max(tensor)\n",
        "\n",
        "tf.print(\"Mean:\", mean)\n",
        "tf.print(\"Sum:\", sum_all)\n",
        "tf.print(\"Max:\", max_value)"
      ],
      "metadata": {
        "colab": {
          "base_uri": "https://localhost:8080/"
        },
        "id": "gpWqBg-LAMbL",
        "outputId": "f9798af5-b8de-46c3-f889-bc601eb2de61"
      },
      "execution_count": 13,
      "outputs": [
        {
          "output_type": "stream",
          "name": "stdout",
          "text": [
            "Mean: 3\n",
            "Sum: 21\n",
            "Max: 6\n"
          ]
        }
      ]
    }
  ]
}