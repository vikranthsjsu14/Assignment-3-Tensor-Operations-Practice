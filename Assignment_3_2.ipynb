{
  "nbformat": 4,
  "nbformat_minor": 0,
  "metadata": {
    "colab": {
      "provenance": []
    },
    "kernelspec": {
      "name": "python3",
      "display_name": "Python 3"
    },
    "language_info": {
      "name": "python"
    }
  },
  "cells": [
    {
      "cell_type": "code",
      "execution_count": 1,
      "metadata": {
        "id": "ZTcnMi0PKCVv"
      },
      "outputs": [],
      "source": [
        "import torch\n",
        "import einops"
      ]
    },
    {
      "cell_type": "code",
      "source": [
        "# 1. Creating Tensors\n",
        "x = torch.tensor([[1, 2], [3, 4]], dtype=torch.float32)\n",
        "y = torch.rand((2, 2))\n",
        "z = torch.ones((3, 3))\n",
        "print(\"Tensor x:\", x)\n",
        "print(\"Tensor y:\", y)\n",
        "print(\"Tensor z:\", z)"
      ],
      "metadata": {
        "colab": {
          "base_uri": "https://localhost:8080/"
        },
        "id": "ZufifxzxPWwx",
        "outputId": "e8da3725-8470-44da-8e3b-bb66db6d260a"
      },
      "execution_count": 2,
      "outputs": [
        {
          "output_type": "stream",
          "name": "stdout",
          "text": [
            "Tensor x: tensor([[1., 2.],\n",
            "        [3., 4.]])\n",
            "Tensor y: tensor([[0.7690, 0.4527],\n",
            "        [0.2410, 0.5534]])\n",
            "Tensor z: tensor([[1., 1., 1.],\n",
            "        [1., 1., 1.],\n",
            "        [1., 1., 1.]])\n"
          ]
        }
      ]
    },
    {
      "cell_type": "code",
      "source": [
        "# 2. Reshaping and Permuting\n",
        "reshaped = x.view(4, 1)  # Reshape to (4,1)\n",
        "permuted = x.permute(1, 0)  # Swap dimensions\n",
        "print(\"Reshaped Tensor:\", reshaped)\n",
        "print(\"Permuted Tensor:\", permuted)\n"
      ],
      "metadata": {
        "colab": {
          "base_uri": "https://localhost:8080/"
        },
        "id": "aMukMcOGPaYr",
        "outputId": "5affeb04-1c6a-4820-8d21-cae2395454f0"
      },
      "execution_count": 3,
      "outputs": [
        {
          "output_type": "stream",
          "name": "stdout",
          "text": [
            "Reshaped Tensor: tensor([[1.],\n",
            "        [2.],\n",
            "        [3.],\n",
            "        [4.]])\n",
            "Permuted Tensor: tensor([[1., 3.],\n",
            "        [2., 4.]])\n"
          ]
        }
      ]
    },
    {
      "cell_type": "code",
      "source": [
        "# 3. Element-wise Operations\n",
        "sum_tensors = x + y\n",
        "prod_tensors = x * y\n",
        "exp_tensor = torch.exp(x)\n",
        "print(\"Sum of Tensors:\", sum_tensors)\n",
        "print(\"Product of Tensors:\", prod_tensors)\n",
        "print(\"Exponential of Tensor x:\", exp_tensor)"
      ],
      "metadata": {
        "colab": {
          "base_uri": "https://localhost:8080/"
        },
        "id": "qR4fD-BkPa86",
        "outputId": "c6e06b47-f421-4532-d5a7-cae50b3db6ff"
      },
      "execution_count": 4,
      "outputs": [
        {
          "output_type": "stream",
          "name": "stdout",
          "text": [
            "Sum of Tensors: tensor([[1.7690, 2.4527],\n",
            "        [3.2410, 4.5534]])\n",
            "Product of Tensors: tensor([[0.7690, 0.9054],\n",
            "        [0.7230, 2.2136]])\n",
            "Exponential of Tensor x: tensor([[ 2.7183,  7.3891],\n",
            "        [20.0855, 54.5981]])\n"
          ]
        }
      ]
    },
    {
      "cell_type": "code",
      "source": [
        "# 4. Matrix Operations\n",
        "dot_product = torch.matmul(x, permuted)\n",
        "det_x = torch.det(x) if x.shape[0] == x.shape[1] else \"Not Square\"\n",
        "print(\"Dot Product:\", dot_product)\n",
        "print(\"Determinant:\", det_x)"
      ],
      "metadata": {
        "colab": {
          "base_uri": "https://localhost:8080/"
        },
        "id": "JKhKyFc_Pgb_",
        "outputId": "9b36298e-6406-4019-d834-bced7ffcd342"
      },
      "execution_count": 5,
      "outputs": [
        {
          "output_type": "stream",
          "name": "stdout",
          "text": [
            "Dot Product: tensor([[ 5., 11.],\n",
            "        [11., 25.]])\n",
            "Determinant: tensor(-2.)\n"
          ]
        }
      ]
    },
    {
      "cell_type": "code",
      "source": [
        "# 5. Advanced Indexing\n",
        "indexed = x[0, 1]\n",
        "multi_indexed = x[[0, 1], [0, 1]]\n",
        "masked_select = x[x > 2]\n",
        "print(\"Indexed Element:\", indexed)\n",
        "print(\"Multiple Indexed Elements:\", multi_indexed)\n",
        "print(\"Masked Select (elements >2):\", masked_select)\n"
      ],
      "metadata": {
        "colab": {
          "base_uri": "https://localhost:8080/"
        },
        "id": "ZCdyEWNnPi4C",
        "outputId": "82f6218f-8f13-4054-efec-d9a968be5fc9"
      },
      "execution_count": 6,
      "outputs": [
        {
          "output_type": "stream",
          "name": "stdout",
          "text": [
            "Indexed Element: tensor(2.)\n",
            "Multiple Indexed Elements: tensor([1., 4.])\n",
            "Masked Select (elements >2): tensor([3., 4.])\n"
          ]
        }
      ]
    },
    {
      "cell_type": "code",
      "source": [
        "# 6. Broadcasting\n",
        "a = torch.tensor([1, 2, 3])\n",
        "b = torch.tensor([[1], [2], [3]])\n",
        "broadcasted_add = a + b\n",
        "print(\"Broadcasted Addition:\", broadcasted_add)"
      ],
      "metadata": {
        "colab": {
          "base_uri": "https://localhost:8080/"
        },
        "id": "Y-omCdB9UEQo",
        "outputId": "1f4ba1ef-103c-4cc9-d430-2080f36396f8"
      },
      "execution_count": 7,
      "outputs": [
        {
          "output_type": "stream",
          "name": "stdout",
          "text": [
            "Broadcasted Addition: tensor([[2, 3, 4],\n",
            "        [3, 4, 5],\n",
            "        [4, 5, 6]])\n"
          ]
        }
      ]
    },
    {
      "cell_type": "code",
      "source": [
        "# 7. Autograd for Gradients\n",
        "x.requires_grad_(True)\n",
        "y = x ** 2\n",
        "y.sum().backward()\n",
        "print(\"Gradient of x:\", x.grad)"
      ],
      "metadata": {
        "colab": {
          "base_uri": "https://localhost:8080/"
        },
        "id": "tMropVDNVCvO",
        "outputId": "cb1c9be7-3a5c-4460-cf0d-40f8ee20be13"
      },
      "execution_count": 8,
      "outputs": [
        {
          "output_type": "stream",
          "name": "stdout",
          "text": [
            "Gradient of x: tensor([[2., 4.],\n",
            "        [6., 8.]])\n"
          ]
        }
      ]
    },
    {
      "cell_type": "code",
      "source": [
        "# 8. GPU Operations\n",
        "device = \"cuda\" if torch.cuda.is_available() else \"cpu\"\n",
        "x_gpu = x.to(device)\n",
        "print(\"Tensor on GPU:\", x_gpu)"
      ],
      "metadata": {
        "colab": {
          "base_uri": "https://localhost:8080/"
        },
        "id": "vjAhM-UHVGTt",
        "outputId": "2f744671-df98-41fe-ba4b-fa4f04d254d2"
      },
      "execution_count": 10,
      "outputs": [
        {
          "output_type": "stream",
          "name": "stdout",
          "text": [
            "Tensor on GPU: tensor([[1., 2.],\n",
            "        [3., 4.]], requires_grad=True)\n"
          ]
        }
      ]
    },
    {
      "cell_type": "code",
      "source": [
        "# 9. Memory Efficient Operations\n",
        "# Create a copy of x to avoid modifying the original tensor with requires_grad=True\n",
        "x_copy = x.clone()\n",
        "x_copy.add_(y)  # In-place addition on the copy\n",
        "print(\"In-place Addition x_copy:\", x_copy)\n"
      ],
      "metadata": {
        "colab": {
          "base_uri": "https://localhost:8080/"
        },
        "id": "ZznSdMlyVMtQ",
        "outputId": "760273c9-ef82-4124-8fb4-0ca7f1d7168d"
      },
      "execution_count": 13,
      "outputs": [
        {
          "output_type": "stream",
          "name": "stdout",
          "text": [
            "In-place Addition x_copy: tensor([[ 2.,  6.],\n",
            "        [12., 20.]], grad_fn=<AddBackward0>)\n"
          ]
        }
      ]
    },
    {
      "cell_type": "code",
      "source": [
        "# 10. Einops for Tensor Manipulation\n",
        "x_reshaped = einops.rearrange(x, 'h w -> (h w)')\n",
        "print(\"Einops Reshaped x:\", x_reshaped)"
      ],
      "metadata": {
        "colab": {
          "base_uri": "https://localhost:8080/"
        },
        "id": "hXi8Rk8iVX-p",
        "outputId": "ff03f863-af36-4c19-bf9a-ce617aa7d9c1"
      },
      "execution_count": 14,
      "outputs": [
        {
          "output_type": "stream",
          "name": "stdout",
          "text": [
            "Einops Reshaped x: tensor([1., 2., 3., 4.], grad_fn=<ViewBackward0>)\n"
          ]
        }
      ]
    }
  ]
}